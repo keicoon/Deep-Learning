{
  "nbformat": 4,
  "nbformat_minor": 0,
  "metadata": {
    "colab": {
      "name": "SAE.ipynb",
      "version": "0.3.2",
      "provenance": [],
      "include_colab_link": true
    },
    "kernelspec": {
      "name": "python3",
      "display_name": "Python 3"
    },
    "accelerator": "GPU"
  },
  "cells": [
    {
      "cell_type": "markdown",
      "metadata": {
        "id": "view-in-github",
        "colab_type": "text"
      },
      "source": [
        "[View in Colaboratory](https://colab.research.google.com/github/keicoon/AutoEncoder/blob/master/SAE.ipynb)"
      ]
    },
    {
      "metadata": {
        "id": "2bUvP8N_Okqr",
        "colab_type": "text"
      },
      "cell_type": "markdown",
      "source": [
        "## MNIST example in Sparse Auto Encoder\n",
        "- refence : https://web.stanford.edu/class/cs294a/sparseAutoencoder_2011new.pdf"
      ]
    },
    {
      "metadata": {
        "id": "HhzHP7PMr3iW",
        "colab_type": "code",
        "colab": {
          "base_uri": "https://localhost:8080/",
          "height": 131
        },
        "outputId": "6daeb61c-f9fb-4e29-802d-98c24ae3a642"
      },
      "cell_type": "code",
      "source": [
        "!pip install tqdm"
      ],
      "execution_count": 3,
      "outputs": [
        {
          "output_type": "stream",
          "text": [
            "Collecting tqdm\n",
            "\u001b[?25l  Downloading https://files.pythonhosted.org/packages/7d/e6/19dfaff08fcbee7f3453e5b537e65a8364f1945f921a36d08be1e2ff3475/tqdm-4.24.0-py2.py3-none-any.whl (43kB)\n",
            "\u001b[K    100% |████████████████████████████████| 51kB 2.4MB/s \n",
            "\u001b[?25hInstalling collected packages: tqdm\n",
            "Successfully installed tqdm-4.24.0\n"
          ],
          "name": "stdout"
        }
      ]
    },
    {
      "metadata": {
        "id": "lnrFDUFM-8Bj",
        "colab_type": "code",
        "colab": {
          "base_uri": "https://localhost:8080/",
          "height": 579
        },
        "outputId": "81141bb5-6ace-4b28-80f7-4aa8074030e7"
      },
      "cell_type": "code",
      "source": [
        "import numpy as np\n",
        "import tensorflow as tf\n",
        "\n",
        "from tqdm import tqdm\n",
        "\n",
        "import matplotlib.pyplot as plt\n",
        "%matplotlib inline\n",
        "\n",
        "from tensorflow.examples.tutorials.mnist import input_data\n",
        "mnist = input_data.read_data_sets(\"MNIST_data/\", one_hot=True)"
      ],
      "execution_count": 4,
      "outputs": [
        {
          "output_type": "stream",
          "text": [
            "WARNING:tensorflow:From <ipython-input-4-12c29694fbe2>:10: read_data_sets (from tensorflow.contrib.learn.python.learn.datasets.mnist) is deprecated and will be removed in a future version.\n",
            "Instructions for updating:\n",
            "Please use alternatives such as official/mnist/dataset.py from tensorflow/models.\n",
            "WARNING:tensorflow:From /usr/local/lib/python3.6/dist-packages/tensorflow/contrib/learn/python/learn/datasets/mnist.py:260: maybe_download (from tensorflow.contrib.learn.python.learn.datasets.base) is deprecated and will be removed in a future version.\n",
            "Instructions for updating:\n",
            "Please write your own downloading logic.\n",
            "WARNING:tensorflow:From /usr/local/lib/python3.6/dist-packages/tensorflow/contrib/learn/python/learn/datasets/base.py:252: _internal_retry.<locals>.wrap.<locals>.wrapped_fn (from tensorflow.contrib.learn.python.learn.datasets.base) is deprecated and will be removed in a future version.\n",
            "Instructions for updating:\n",
            "Please use urllib or similar directly.\n",
            "Successfully downloaded train-images-idx3-ubyte.gz 9912422 bytes.\n",
            "WARNING:tensorflow:From /usr/local/lib/python3.6/dist-packages/tensorflow/contrib/learn/python/learn/datasets/mnist.py:262: extract_images (from tensorflow.contrib.learn.python.learn.datasets.mnist) is deprecated and will be removed in a future version.\n",
            "Instructions for updating:\n",
            "Please use tf.data to implement this functionality.\n",
            "Extracting MNIST_data/train-images-idx3-ubyte.gz\n",
            "Successfully downloaded train-labels-idx1-ubyte.gz 28881 bytes.\n",
            "WARNING:tensorflow:From /usr/local/lib/python3.6/dist-packages/tensorflow/contrib/learn/python/learn/datasets/mnist.py:267: extract_labels (from tensorflow.contrib.learn.python.learn.datasets.mnist) is deprecated and will be removed in a future version.\n",
            "Instructions for updating:\n",
            "Please use tf.data to implement this functionality.\n",
            "Extracting MNIST_data/train-labels-idx1-ubyte.gz\n",
            "WARNING:tensorflow:From /usr/local/lib/python3.6/dist-packages/tensorflow/contrib/learn/python/learn/datasets/mnist.py:110: dense_to_one_hot (from tensorflow.contrib.learn.python.learn.datasets.mnist) is deprecated and will be removed in a future version.\n",
            "Instructions for updating:\n",
            "Please use tf.one_hot on tensors.\n",
            "Successfully downloaded t10k-images-idx3-ubyte.gz 1648877 bytes.\n",
            "Extracting MNIST_data/t10k-images-idx3-ubyte.gz\n",
            "Successfully downloaded t10k-labels-idx1-ubyte.gz 4542 bytes.\n",
            "Extracting MNIST_data/t10k-labels-idx1-ubyte.gz\n",
            "WARNING:tensorflow:From /usr/local/lib/python3.6/dist-packages/tensorflow/contrib/learn/python/learn/datasets/mnist.py:290: DataSet.__init__ (from tensorflow.contrib.learn.python.learn.datasets.mnist) is deprecated and will be removed in a future version.\n",
            "Instructions for updating:\n",
            "Please use alternatives such as official/mnist/dataset.py from tensorflow/models.\n"
          ],
          "name": "stdout"
        }
      ]
    },
    {
      "metadata": {
        "id": "VNiEfYAVvc3D",
        "colab_type": "code",
        "colab": {
          "base_uri": "https://localhost:8080/",
          "height": 36
        },
        "outputId": "95505e80-90c9-4d0b-ed22-5e4d0ae7984c"
      },
      "cell_type": "code",
      "source": [
        "device_name = tf.test.gpu_device_name()\n",
        "if device_name != '/device:GPU:0':\n",
        "  raise SystemError('GPU device not found')\n",
        "print('Found GPU at: {}'.format(device_name))"
      ],
      "execution_count": 5,
      "outputs": [
        {
          "output_type": "stream",
          "text": [
            "Found GPU at: /device:GPU:0\n"
          ],
          "name": "stdout"
        }
      ]
    },
    {
      "metadata": {
        "id": "5O_aejeIGCrt",
        "colab_type": "code",
        "colab": {}
      },
      "cell_type": "code",
      "source": [
        "class SAE():\n",
        "  def __init__(self, n_input, n_hidden, rho=0.01, lamb=0.0001, beta=3, activation=tf.nn.sigmoid):\n",
        "    n_output = n_input\n",
        "  \n",
        "    self.W1 = tf.get_variable(\"W1\", shape=(n_input, n_hidden), initializer=tf.contrib.layers.xavier_initializer())\n",
        "    self.b1 = tf.Variable(tf.zeros([n_hidden], dtype = tf.float32))\n",
        "\n",
        "    self.W2 = tf.Variable(tf.zeros([n_hidden, n_output], dtype = tf.float32))\n",
        "    self.b2 = tf.Variable(tf.zeros([n_output], dtype = tf.float32))\n",
        "    \n",
        "    self.rho = rho\n",
        "    self.lamb = lamb\n",
        "    self.beta = beta\n",
        "    \n",
        "    self.activation = activation\n",
        "    \n",
        "  def encode(self, X):\n",
        "    h = tf.matmul(X, self.W1) + self.b1\n",
        "    return self.activation(h)\n",
        "  \n",
        "  def decode(self, hidden):\n",
        "    _X = tf.matmul(hidden, self.W2) + self.b2\n",
        "    return self.activation(_X)\n",
        "  \n",
        "  def kl_divergence(self, r, r_hat):\n",
        "    return r * (tf.log(r) - tf.log(r_hat)) + (1 - r) * (tf.log(1 - r) - tf.log(1 - r_hat))\n",
        "\n",
        "  def __call__(self, X):\n",
        "    h = self.encode(X)\n",
        "    _X = self.decode(h)\n",
        "    #\n",
        "    r_hat = tf.reduce_mean(h, axis=0)\n",
        "    kl = self.kl_divergence(self.rho, r_hat)\n",
        "    #\n",
        "    mse = tf.reduce_mean(tf.reduce_sum(tf.square(X - _X)))\n",
        "    J = 0.5 * (mse + self.lamb * (tf.nn.l2_loss(self.W1) + tf.nn.l2_loss(self.W2)))\n",
        "    penalty = self.beta * tf.reduce_sum(kl)\n",
        "    \n",
        "    self.cost = J + penalty\n",
        "    \n",
        "    return _X"
      ],
      "execution_count": 0,
      "outputs": []
    },
    {
      "metadata": {
        "id": "ui3DLEM8o0oV",
        "colab_type": "code",
        "colab": {}
      },
      "cell_type": "code",
      "source": [
        "class simple_SAE():\n",
        "  def __init__(self, n_hidden, rho=0.01, beta=3, activation=tf.nn.relu):\n",
        "    self.n_hidden = n_hidden\n",
        "    self.activation = activation\n",
        "    # rho is sparsity parameter\n",
        "    self.rho = rho\n",
        "    # beta is controls the weight of the sparsity penalty term\n",
        "    self.beta = beta\n",
        "  \n",
        "  def kl_divergence(self, r, r_hat):\n",
        "    return r * (tf.log(r) - tf.log(r_hat)) + (1 - r) * (tf.log(1 - r) - tf.log(1 - r_hat))\n",
        "  \n",
        "  def __call__(self, X):\n",
        "    # model\n",
        "    h = tf.layers.dense(X, self.n_hidden, activation=self.activation, kernel_initializer=tf.contrib.layers.xavier_initializer())\n",
        "    _X = tf.layers.dense(h, 784, activation=self.activation)\n",
        "    # kl\n",
        "    r_hat = tf.reduce_mean(h)\n",
        "    kl = self.kl_divergence(self.rho, r_hat)\n",
        "    \n",
        "    penalty = self.beta * tf.reduce_sum(kl)\n",
        "    recon_loss = tf.reduce_mean(tf.reduce_sum(tf.square(X - _X)))\n",
        "    \n",
        "    self.cost = recon_loss + penalty\n",
        "    \n",
        "    return _X"
      ],
      "execution_count": 0,
      "outputs": []
    },
    {
      "metadata": {
        "id": "rZpvvSTfuqVf",
        "colab_type": "code",
        "colab": {}
      },
      "cell_type": "code",
      "source": [
        "config = tf.ConfigProto()\n",
        "config.gpu_options.allow_growth = True\n",
        "\n",
        "tf.reset_default_graph()\n",
        "\n",
        "batch_size = 256\n",
        "n_samples = int(mnist.train.num_examples)\n",
        "total_batch = int(n_samples / batch_size)\n",
        "\n",
        "# sae = SAE(784, 1024)\n",
        "sae = simple_SAE(1024)\n",
        "\n",
        "X = tf.placeholder(tf.float32, [None, 784])\n",
        "_X = sae(X)\n",
        "\n",
        "train_op = tf.train.AdamOptimizer(learning_rate = 0.001).minimize(sae.cost)\n",
        "\n",
        "sess = tf.Session(config=config)\n",
        "sess.run(tf.global_variables_initializer())"
      ],
      "execution_count": 0,
      "outputs": []
    },
    {
      "metadata": {
        "id": "elA6rfu1bc8i",
        "colab_type": "code",
        "colab": {
          "base_uri": "https://localhost:8080/",
          "height": 297
        },
        "outputId": "6e421216-3f09-44f9-8576-6d17438dde8a"
      },
      "cell_type": "code",
      "source": [
        "def train():\n",
        "  training_epochs = 15\n",
        "  \n",
        "  for epoch in range(training_epochs):\n",
        "    avg_cost = 0.\n",
        "    \n",
        "    pbar = tqdm(range(total_batch))\n",
        "    \n",
        "    for i in pbar:\n",
        "      batch_x, _ = mnist.train.next_batch(batch_size, shuffle=True)\n",
        "      \n",
        "      _, cost = sess.run([train_op, sae.cost], feed_dict={X: batch_x})\n",
        "      \n",
        "      avg_cost += cost / total_batch\n",
        "      pbar.set_description(\"cost : %f\" % avg_cost)\n",
        "    \n",
        "\n",
        "train()"
      ],
      "execution_count": 10,
      "outputs": [
        {
          "output_type": "stream",
          "text": [
            "cost : 856.993500: 100%|██████████| 214/214 [00:01<00:00, 114.11it/s]\n",
            "cost : 852.270039: 100%|██████████| 214/214 [00:02<00:00, 100.24it/s]\n",
            "cost : 854.091886: 100%|██████████| 214/214 [00:02<00:00, 101.72it/s]\n",
            "cost : 46.933625:   0%|          | 0/214 [00:00<?, ?it/s]"
          ],
          "name": "stderr"
        },
        {
          "output_type": "stream",
          "text": [
            "cost : 866.980226: 100%|██████████| 214/214 [00:02<00:00, 102.18it/s]\n",
            "cost : 857.375965: 100%|██████████| 214/214 [00:02<00:00, 100.10it/s]\n",
            "cost : 864.270142: 100%|██████████| 214/214 [00:02<00:00, 100.91it/s]\n",
            "cost : 47.537401:   5%|▌         | 11/214 [00:00<00:02, 91.77it/s]"
          ],
          "name": "stderr"
        },
        {
          "output_type": "stream",
          "text": [
            "cost : 874.109465: 100%|██████████| 214/214 [00:02<00:00, 103.45it/s]\n",
            "cost : 861.180120: 100%|██████████| 214/214 [00:02<00:00, 105.19it/s]\n",
            "cost : 867.327125: 100%|██████████| 214/214 [00:02<00:00, 103.76it/s]\n",
            "cost : 46.401565:   5%|▌         | 11/214 [00:00<00:02, 93.14it/s] "
          ],
          "name": "stderr"
        },
        {
          "output_type": "stream",
          "text": [
            "cost : 859.622199: 100%|██████████| 214/214 [00:02<00:00, 105.63it/s]\n",
            "cost : 854.414483: 100%|██████████| 214/214 [00:02<00:00, 106.81it/s]\n",
            "cost : 864.815920: 100%|██████████| 214/214 [00:02<00:00, 104.87it/s]\n",
            "cost : 54.685519:   6%|▌         | 13/214 [00:00<00:01, 113.75it/s]"
          ],
          "name": "stderr"
        },
        {
          "output_type": "stream",
          "text": [
            "cost : 873.633877: 100%|██████████| 214/214 [00:01<00:00, 108.24it/s]\n",
            "cost : 882.233014: 100%|██████████| 214/214 [00:02<00:00, 103.54it/s]\n",
            "cost : 876.910969: 100%|██████████| 214/214 [00:01<00:00, 107.19it/s]\n"
          ],
          "name": "stderr"
        }
      ]
    },
    {
      "metadata": {
        "id": "SbLG7L4buw33",
        "colab_type": "code",
        "colab": {
          "base_uri": "https://localhost:8080/",
          "height": 557
        },
        "outputId": "82269d80-5f97-4674-8c9e-5aedf112e712"
      },
      "cell_type": "code",
      "source": [
        "def test():\n",
        "  n = 4\n",
        "    \n",
        "  canvas_orig = np.empty((28 * n, 28 * n))\n",
        "  canvas_recon = np.empty((28 * n, 28 * n))\n",
        "  for i in range(n):\n",
        "      batch_x, _ = mnist.test.next_batch(n)\n",
        "\n",
        "      recon = sess.run(_X, feed_dict={X: batch_x})\n",
        "\n",
        "      # Display original images\n",
        "      for j in range(n):\n",
        "          # Draw the generated digits\n",
        "          canvas_orig[i * 28:(i + 1) * 28, j * 28:(j + 1) * 28] = batch_x[j].reshape([28, 28])\n",
        "      # Display reconstructed images\n",
        "      for j in range(n):\n",
        "          # Draw the generated digits\n",
        "          canvas_recon[i * 28:(i + 1) * 28, j * 28:(j + 1) * 28] = recon[j].reshape([28, 28])\n",
        "\n",
        "  print(\"Original Images\")     \n",
        "  plt.figure(figsize=(n, n))\n",
        "  plt.imshow(canvas_orig, origin=\"upper\", cmap=\"gray\")\n",
        "  plt.show()\n",
        "\n",
        "  print(\"Reconstructed Images\")\n",
        "  plt.figure(figsize=(n, n))\n",
        "  plt.imshow(canvas_recon, origin=\"upper\", cmap=\"gray\")\n",
        "  plt.show()\n",
        "\n",
        "test()"
      ],
      "execution_count": 11,
      "outputs": [
        {
          "output_type": "stream",
          "text": [
            "Original Images\n"
          ],
          "name": "stdout"
        },
        {
          "output_type": "display_data",
          "data": {
            "image/png": "[encoded data removed]",
            "text/plain": [
              "<matplotlib.figure.Figure at 0x7f8a74835eb8>"
            ]
          },
          "metadata": {
            "tags": []
          }
        },
        {
          "output_type": "stream",
          "text": [
            "Reconstructed Images\n"
          ],
          "name": "stdout"
        },
        {
          "output_type": "display_data",
          "data": {
            "image/png": "[encoded data removed]",
            "text/plain": [
              "<matplotlib.figure.Figure at 0x7f8a7479ffd0>"
            ]
          },
          "metadata": {
            "tags": []
          }
        }
      ]
    }
  ]
}