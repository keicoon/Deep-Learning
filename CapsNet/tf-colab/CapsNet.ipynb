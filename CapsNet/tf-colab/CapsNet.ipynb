{
  "nbformat": 4,
  "nbformat_minor": 0,
  "metadata": {
    "colab": {
      "name": "CapsNet.ipynb",
      "version": "0.3.2",
      "provenance": [],
      "collapsed_sections": [],
      "include_colab_link": true
    },
    "kernelspec": {
      "name": "python3",
      "display_name": "Python 3"
    }
  },
  "cells": [
    {
      "cell_type": "markdown",
      "metadata": {
        "id": "view-in-github",
        "colab_type": "text"
      },
      "source": [
        "[View in Colaboratory](https://colab.research.google.com/github/keicoon/CapsNet/blob/master/tf-colab/CapsNet.ipynb)"
      ]
    },
    {
      "metadata": {
        "id": "8yQ-qxZwehLf",
        "colab_type": "code",
        "colab": {}
      },
      "cell_type": "code",
      "source": [
        "# 필요한 모듈들을 불러옵니다\n",
        "import numpy as np\n",
        "import tensorflow as tf\n",
        "from tensorflow.examples.tutorials.mnist import input_data\n",
        "\n",
        "%matplotlib inline\n",
        "import matplotlib\n",
        "import matplotlib.pyplot as plt"
      ],
      "execution_count": 0,
      "outputs": []
    },
    {
      "metadata": {
        "id": "i7O4iJzInMwy",
        "colab_type": "code",
        "colab": {}
      },
      "cell_type": "code",
      "source": [
        "# HyperParameter를 여기서 설정합니다\n",
        "batchSize = 128\n",
        "epochNum = 500\n",
        "data_dir = './mnist_data'"
      ],
      "execution_count": 0,
      "outputs": []
    },
    {
      "metadata": {
        "id": "b423yyhT8r2k",
        "colab_type": "code",
        "colab": {}
      },
      "cell_type": "code",
      "source": [
        "config = tf.ConfigProto()\n",
        "# config.gpu_options.per_process_gpu_memory_fraction = 0.93"
      ],
      "execution_count": 0,
      "outputs": []
    },
    {
      "metadata": {
        "id": "RA86j-GcTaGE",
        "colab_type": "code",
        "colab": {}
      },
      "cell_type": "code",
      "source": [
        "# # 구글 드라이브에서 MNIST 데이터 업로드\n",
        "# from google.colab import files\n",
        "# files.upload()"
      ],
      "execution_count": 0,
      "outputs": []
    },
    {
      "metadata": {
        "id": "jO2vCglIyA7d",
        "colab_type": "code",
        "colab": {
          "base_uri": "https://localhost:8080/",
          "height": 92
        },
        "outputId": "65d54dab-7503-4c7d-e1eb-a0ce671e7bfa"
      },
      "cell_type": "code",
      "source": [
        "# 데이터를 batchSize에 맞게 잘라서 읽어옵니다\n",
        "mnist = input_data.read_data_sets(data_dir, one_hot=True)\n",
        "def getBatchData(isTrain = True):\n",
        "  if isTrain:\n",
        "    image, label = mnist.train.next_batch(batchSize, shuffle=True)\n",
        "  else:\n",
        "    image, label = mnist.validation.next_batch(batchSize, shuffle=True)\n",
        "    \n",
        "  return image, label"
      ],
      "execution_count": 56,
      "outputs": [
        {
          "output_type": "stream",
          "text": [
            "Extracting ./mnist_data/train-images-idx3-ubyte.gz\n",
            "Extracting ./mnist_data/train-labels-idx1-ubyte.gz\n",
            "Extracting ./mnist_data/t10k-images-idx3-ubyte.gz\n",
            "Extracting ./mnist_data/t10k-labels-idx1-ubyte.gz\n"
          ],
          "name": "stdout"
        }
      ]
    },
    {
      "metadata": {
        "id": "kNeUOYhEV2_d",
        "colab_type": "code",
        "colab": {}
      },
      "cell_type": "code",
      "source": [
        "# non-linear 활성화 함수\n",
        "def squash(vector):\n",
        "  normalVector = tf.reduce_sum(tf.square(vector), axis=-2, keep_dims=True)\n",
        "  return vector * (normalVector / ((1 + normalVector) * tf.sqrt(normalVector + 1e-9)))"
      ],
      "execution_count": 0,
      "outputs": []
    },
    {
      "metadata": {
        "id": "8GtIOeLCX-lk",
        "colab_type": "code",
        "colab": {}
      },
      "cell_type": "code",
      "source": [
        "# conv 모양을 쌓을 수 있는 capsule layer를 만듭니다\n",
        "def primaryCaps(input):\n",
        "  # MNIST 실험에 맞게 설정한 세팅 값입니다\n",
        "  outputChannel = 32\n",
        "  vecLen = 8\n",
        "  kernelSize = 9\n",
        "  strides = 2\n",
        "  # for문을 순회하며 capsule을 만드는 것보다 cov2d를 사용해서 reshpae로 모양을 뒤집는게 빠릅니다\n",
        "  # shape=[conv2d_shape, output * vec]\n",
        "  capsules = tf.contrib.layers.conv2d(input, outputChannel * vecLen, kernelSize, strides, padding='VALID')\n",
        "  # 8개 property를 가지는 capsule 1152(6 * 6 * 32)개의 tensor를 얻습니다\n",
        "  # shape=[cond2d_shape * output, vec]\n",
        "  capsules = tf.reshape(capsules, (batchSize, -1, vecLen, 1))\n",
        "  # 모든 capsule에 activation을 해줍니다\n",
        "  capsules = squash(capsules)\n",
        "\n",
        "  return capsules"
      ],
      "execution_count": 0,
      "outputs": []
    },
    {
      "metadata": {
        "id": "ARyoLwhjqAc4",
        "colab_type": "code",
        "colab": {}
      },
      "cell_type": "code",
      "source": [
        "# capsule layer간의 logit을 갱신해줍니다\n",
        "def dynamicRouting(uji, bij):\n",
        "  outputChannel = 10\n",
        "  vecLen = 16\n",
        "  # layer의 capsule property가 다른 경우 dimention을 맞춰주는 W(weight matrix)를 생성합니다\n",
        "  # ex) 8 -> 16\n",
        "  W = tf.get_variable('W', shape=(1, 1152, outputChannel, 8, vecLen),\n",
        "                      dtype=tf.float32, \n",
        "                      initializer=tf.random_normal_initializer(stddev=0.01))\n",
        "  # W의 모양에 맞게 matrix를 늘려 붙여줍니다\n",
        "  uji = tf.tile(uji, [1, 1, outputChannel, 1, 1])\n",
        "  # batchSize에 맞게 W도 늘려 붙여줍니다\n",
        "  W = tf.tile(W, [batchSize, 1, 1, 1, 1])\n",
        "  # capsule의 dimention을 맞춘 새로운 capsule입니다.\n",
        "  # u^ji = W * uji\n",
        "  uHatji = tf.matmul(W, uji, transpose_a=True)\n",
        "  # routing 횟수를 정합니다. 논문에서는 3번이 적당하다고 합니다\n",
        "  rNum = 3\n",
        "  for r in range(rNum):\n",
        "    # capsule이 전파되는 weight(coupling coefficient)의 총량은 1이 되어야 하므로 softmax 함수를 통해 weight를 normalize해줍니다\n",
        "    cij = tf.nn.softmax(bij, dim=2)\n",
        "    # weight를 casule에 반영해 줍니다\n",
        "    # sj = E(cij * u^ji)\n",
        "    sj = tf.multiply(cij, uHatji)\n",
        "    sj = tf.reduce_sum(sj, axis=1, keep_dims=True)\n",
        "    # *capsule들의 vector 값을 구합니다\n",
        "    vj = squash(sj)\n",
        "    # uHat의 shape에 맞춰 vj를 늘려 붙여줍니다\n",
        "    vjTiled = tf.tile(vj, [1, 1152, 1, 1, 1])\n",
        "    # a = uHat * vj\n",
        "    a = tf.matmul(uHatji, vjTiled, transpose_a=True)\n",
        "    # 계산된 agreement를 다음 routing에 반영하기 위해 bij에 더해줍니다. 마지막 iteration는 반영되지 않으므로 제외합니다\n",
        "    if r < rNum - 1:\n",
        "      bij += a\n",
        "\n",
        "  return vj"
      ],
      "execution_count": 0,
      "outputs": []
    },
    {
      "metadata": {
        "id": "kvyjy1L9pxh5",
        "colab_type": "code",
        "colab": {}
      },
      "cell_type": "code",
      "source": [
        "# MNIST 예제에 맞게 마지막 network의 capsule 갯수를 10(0~9)개로 합니다\n",
        "def digitCaps(input):\n",
        "  outputChannel = 10\n",
        "  # input으로 들어온 tensor를 한줄로 펴줍니다\n",
        "  uji = tf.reshape(input, shape=(batchSize, -1, 1, 8, 1))\n",
        "  # 두 capsule간의 weight를 의미하는 bij는 처음에 0값을 가집니다\n",
        "  bij = tf.constant(np.zeros([batchSize, 1152, outputChannel, 1, 1], dtype=np.float32))\n",
        "  # 두 layer의 capsule들을 연결을 갱신합니다\n",
        "  capsules = dynamicRouting(uji, bij)\n",
        "  # capsule의 불필요한 차원을 정리합니다\n",
        "  capsules = tf.squeeze(capsules, axis=1)\n",
        "  \n",
        "  return capsules"
      ],
      "execution_count": 0,
      "outputs": []
    },
    {
      "metadata": {
        "id": "Vr-Q2yUJtVId",
        "colab_type": "code",
        "colab": {}
      },
      "cell_type": "code",
      "source": [
        "def reconstruction(_label, caps2, vecLength):\n",
        "  # 가장 길이가 큰 digit 캡슐를 선택함\n",
        "  softmaxV = tf.nn.softmax(vecLength, dim=1)\n",
        "  predictions = tf.to_int32(tf.argmax(softmaxV, axis=1))\n",
        "  predictions = tf.reshape(predictions, shape=(batchSize,))\n",
        "  # 정답 캡슐을 선택함\n",
        "  maskedV = tf.matmul(tf.squeeze(caps2), tf.reshape(_label, (-1, 10, 1)), transpose_a=True)\n",
        "  # capsule의 vector를 쭉 핌\n",
        "  vJ = tf.reshape(maskedV, shape=(batchSize, -1))\n",
        "  # dense를 쌓아올림\n",
        "  fc1 = tf.contrib.layers.fully_connected(inputs=vJ, num_outputs=512)\n",
        "  fc2 = tf.contrib.layers.fully_connected(inputs=fc1, num_outputs=1024)\n",
        "  reconstruct = tf.contrib.layers.fully_connected(inputs=fc2, num_outputs=784, activation_fn=tf.sigmoid)\n",
        "  \n",
        "  return predictions, reconstruct"
      ],
      "execution_count": 0,
      "outputs": []
    },
    {
      "metadata": {
        "id": "kLzhv6ZHvXbc",
        "colab_type": "code",
        "colab": {}
      },
      "cell_type": "code",
      "source": [
        "def capsNet(_image, _label):\n",
        "  _image = tf.reshape(_image, shape=(batchSize, 28, 28, 1))\n",
        "  # input으로 이미지를 받기 위해 간단한 conv2d를 첫번째 layer로 준비합니다\n",
        "  conv1 = tf.contrib.layers.conv2d(_image, num_outputs=256, kernel_size=9, stride=1, padding='VALID')\n",
        "  # caps layer를 쌓아 올립니다.\n",
        "  caps1 = primaryCaps(conv1)\n",
        "  caps2 = digitCaps(caps1)\n",
        "  # 마지막 10개의 capsule의 vector에서 길이를 얻어 가장 높은 확률의 vector를 선택합니다\n",
        "  vecLength = tf.sqrt(tf.reduce_sum(tf.square(caps2), axis=2, keep_dims=True) + 1e-9)\n",
        "  # 복원에 필요한 레이어를 추가함\n",
        "  predictions, reconstruct = reconstruction(_label, caps2, vecLength)\n",
        "\n",
        "  return vecLength, predictions, reconstruct"
      ],
      "execution_count": 0,
      "outputs": []
    },
    {
      "metadata": {
        "id": "vrOxiK1Cxdcn",
        "colab_type": "code",
        "colab": {}
      },
      "cell_type": "code",
      "source": [
        "def getLoss(vecLength, reconstruct, _image, _label):\n",
        "  mPlus = 0.9\n",
        "  mMinus = 0.1\n",
        "  lambdaVal = 0.5\n",
        "  reconLossWeight = 0.392\n",
        "  # 아래 수식을 계산하여 loss 값을 반영합니다\n",
        "  # Margin loss for digit existence\n",
        "  # loss = Tk * max(0, m_plus - ||v_c||)^2 + lamb * (1 - Tk) * max(0, ||v_c|| - m_minus)^2\n",
        "  Tk = _label\n",
        "  \n",
        "  maxL = tf.square(tf.maximum(0., mPlus - vecLength))\n",
        "  maxL = tf.reshape(maxL, shape=(batchSize, -1))\n",
        "  \n",
        "  maxR = tf.square(tf.maximum(0., vecLength - mMinus))\n",
        "  maxR = tf.reshape(maxR, shape=(batchSize, -1))\n",
        "\n",
        "  Lk = Tk * maxL + lambdaVal * (1 - Tk) * maxR\n",
        "  \n",
        "  marginLoss = tf.reduce_mean(tf.reduce_mean(Lk, axis=1))\n",
        "  imageTrue = tf.reshape(_image, shape=(batchSize, -1))\n",
        "  # 원본과 재구성의 MSE\n",
        "  reconLoss = tf.reduce_mean(tf.square(reconstruct - imageTrue))\n",
        "  # reconstruction loss의 영향을 weight만큼 감소하게 함\n",
        "  loss = marginLoss + reconLossWeight * reconLoss\n",
        "  \n",
        "  return loss"
      ],
      "execution_count": 0,
      "outputs": []
    },
    {
      "metadata": {
        "id": "pXLoOHyCV5G8",
        "colab_type": "code",
        "colab": {}
      },
      "cell_type": "code",
      "source": [
        "def getAccuracy(predictions, _label):\n",
        "  label = tf.squeeze(tf.argmax(_label, axis=1, output_type=tf.int32))\n",
        "  acc = tf.reduce_mean(tf.cast(tf.equal(label, predictions), dtype=tf.float32)) * 100\n",
        "  \n",
        "  return acc"
      ],
      "execution_count": 0,
      "outputs": []
    },
    {
      "metadata": {
        "id": "YXaGINZ4Rw_7",
        "colab_type": "code",
        "colab": {
          "base_uri": "https://localhost:8080/",
          "height": 5281
        },
        "outputId": "f20826aa-dc29-4737-a5ba-4af4eab3e539"
      },
      "cell_type": "code",
      "source": [
        "def train():\n",
        "  \n",
        "  tf.reset_default_graph()\n",
        "    \n",
        "  with tf.Session(config=config) as sess:\n",
        "    \n",
        "    _image = tf.placeholder(tf.float32, [batchSize, 784])\n",
        "    _label = tf.placeholder(tf.float32, [batchSize, 10])\n",
        "    \n",
        "    vecLength, predictions, reconstruct = capsNet(_image, _label)\n",
        "    # shape만 변경함\n",
        "    predImage = tf.reshape(reconstruct, shape=(-1, 28, 28, 1))\n",
        "    \n",
        "    totalLoss = getLoss(vecLength, reconstruct, _image, _label)\n",
        "    totalAcc = getAccuracy(predictions, _label)\n",
        "    \n",
        "    global_step = tf.Variable(0, name='global_step', trainable=False)\n",
        "    optimizer = tf.train.AdamOptimizer()\n",
        "    train_op = optimizer.minimize(totalLoss, global_step=global_step)\n",
        "\n",
        "    sess.run(tf.global_variables_initializer())\n",
        "    for e in range(epochNum):\n",
        "      global_step_num = sess.run(global_step)\n",
        "      \n",
        "      if e % 10 == 0 and e > 0: # test\n",
        "        testImage, testLabel = getBatchData(False)\n",
        "        acc = sess.run(totalAcc,\n",
        "                           feed_dict={_image: testImage, _label: testLabel})\n",
        "        print('[test] acc: {:>3.3f}'.format(acc))\n",
        "        reconImgs, pred = sess.run([predImage, predictions],\n",
        "                           feed_dict={_image: testImage, _label: testLabel})\n",
        "        predImgs = reconImgs.reshape([-1, 28, 28])\n",
        "        # 그림을 그림\n",
        "        plt.figure(figsize=(2, 3))\n",
        "        plt.subplot(1, 1, 1)\n",
        "        plt.title(\"Predicted:\" + str(pred[0]))\n",
        "        plt.imshow(predImgs[0], cmap=\"binary\")\n",
        "        plt.axis(\"off\")\n",
        "        plt.show()\n",
        "      else: # train\n",
        "        image, label = getBatchData()\n",
        "        \n",
        "        _, loss = sess.run([train_op, totalLoss],\n",
        "                           feed_dict={_image: image, _label: label})\n",
        "        print('[train] step: {} loss: {:>3.3f}'.format(e + 1, loss))\n",
        "\n",
        "train()"
      ],
      "execution_count": 0,
      "outputs": [
        {
          "output_type": "stream",
          "text": [
            "[train] step: 1 loss: 0.172\n",
            "[train] step: 2 loss: 0.171\n",
            "[train] step: 3 loss: 0.171\n",
            "[train] step: 4 loss: 0.171\n",
            "[train] step: 5 loss: 0.171\n",
            "[train] step: 6 loss: 0.171\n",
            "[train] step: 7 loss: 0.170\n",
            "[train] step: 8 loss: 0.169\n",
            "[train] step: 9 loss: 0.168\n",
            "[train] step: 10 loss: 0.167\n",
            "[test] acc: 3.906\n"
          ],
          "name": "stdout"
        },
        {
          "output_type": "display_data",
          "data": {
            "image/png": "[encoded data removed]",
            "text/plain": [
              "<matplotlib.figure.Figure at 0x7fc666c41a58>"
            ]
          },
          "metadata": {
            "tags": []
          }
        },
        {
          "output_type": "stream",
          "text": [
            "[train] step: 12 loss: 0.166\n",
            "[train] step: 13 loss: 0.164\n",
            "[train] step: 14 loss: 0.162\n",
            "[train] step: 15 loss: 0.159\n",
            "[train] step: 16 loss: 0.157\n",
            "[train] step: 17 loss: 0.153\n",
            "[train] step: 18 loss: 0.149\n",
            "[train] step: 19 loss: 0.145\n",
            "[train] step: 20 loss: 0.141\n",
            "[test] acc: 11.719\n"
          ],
          "name": "stdout"
        },
        {
          "output_type": "display_data",
          "data": {
            "image/png": "[encoded data removed]",
            "text/plain": [
              "<matplotlib.figure.Figure at 0x7fc6623a0b38>"
            ]
          },
          "metadata": {
            "tags": []
          }
        },
        {
          "output_type": "stream",
          "text": [
            "[train] step: 22 loss: 0.136\n",
            "[train] step: 23 loss: 0.132\n",
            "[train] step: 24 loss: 0.127\n",
            "[train] step: 25 loss: 0.123\n",
            "[train] step: 26 loss: 0.119\n",
            "[train] step: 27 loss: 0.117\n",
            "[train] step: 28 loss: 0.113\n",
            "[train] step: 29 loss: 0.114\n",
            "[train] step: 30 loss: 0.111\n",
            "[test] acc: 8.594\n"
          ],
          "name": "stdout"
        },
        {
          "output_type": "display_data",
          "data": {
            "image/png": "[encoded data removed]",
            "text/plain": [
              "<matplotlib.figure.Figure at 0x7fc663b1cc88>"
            ]
          },
          "metadata": {
            "tags": []
          }
        },
        {
          "output_type": "stream",
          "text": [
            "[train] step: 32 loss: 0.110\n",
            "[train] step: 33 loss: 0.111\n",
            "[train] step: 34 loss: 0.109\n",
            "[train] step: 35 loss: 0.108\n",
            "[train] step: 36 loss: 0.108\n",
            "[train] step: 37 loss: 0.107\n",
            "[train] step: 38 loss: 0.088\n",
            "[train] step: 39 loss: 0.116\n",
            "[train] step: 40 loss: 0.083\n",
            "[test] acc: 12.500\n"
          ],
          "name": "stdout"
        },
        {
          "output_type": "display_data",
          "data": {
            "image/png": "[encoded data removed]",
            "text/plain": [
              "<matplotlib.figure.Figure at 0x7fc663781588>"
            ]
          },
          "metadata": {
            "tags": []
          }
        },
        {
          "output_type": "stream",
          "text": [
            "[train] step: 42 loss: 0.091\n",
            "[train] step: 43 loss: 0.087\n",
            "[train] step: 44 loss: 0.079\n",
            "[train] step: 45 loss: 0.088\n",
            "[train] step: 46 loss: 0.079\n",
            "[train] step: 47 loss: 0.079\n",
            "[train] step: 48 loss: 0.082\n",
            "[train] step: 49 loss: 0.079\n",
            "[train] step: 50 loss: 0.077\n",
            "[test] acc: 32.812\n"
          ],
          "name": "stdout"
        },
        {
          "output_type": "display_data",
          "data": {
            "image/png": "[encoded data removed]",
            "text/plain": [
              "<matplotlib.figure.Figure at 0x7fc69a5a4e10>"
            ]
          },
          "metadata": {
            "tags": []
          }
        },
        {
          "output_type": "stream",
          "text": [
            "[train] step: 52 loss: 0.073\n",
            "[train] step: 53 loss: 0.073\n",
            "[train] step: 54 loss: 0.072\n",
            "[train] step: 55 loss: 0.066\n",
            "[train] step: 56 loss: 0.064\n",
            "[train] step: 57 loss: 0.060\n",
            "[train] step: 58 loss: 0.061\n",
            "[train] step: 59 loss: 0.060\n",
            "[train] step: 60 loss: 0.054\n",
            "[test] acc: 72.656\n"
          ],
          "name": "stdout"
        },
        {
          "output_type": "display_data",
          "data": {
            "image/png": "[encoded data removed]",
            "text/plain": [
              "<matplotlib.figure.Figure at 0x7fc6683787b8>"
            ]
          },
          "metadata": {
            "tags": []
          }
        },
        {
          "output_type": "stream",
          "text": [
            "[train] step: 62 loss: 0.049\n",
            "[train] step: 63 loss: 0.053\n",
            "[train] step: 64 loss: 0.049\n",
            "[train] step: 65 loss: 0.050\n",
            "[train] step: 66 loss: 0.051\n",
            "[train] step: 67 loss: 0.048\n",
            "[train] step: 68 loss: 0.046\n",
            "[train] step: 69 loss: 0.046\n",
            "[train] step: 70 loss: 0.044\n",
            "[test] acc: 77.344\n"
          ],
          "name": "stdout"
        },
        {
          "output_type": "display_data",
          "data": {
            "image/png": "[encoded data removed]",
            "text/plain": [
              "<matplotlib.figure.Figure at 0x7fc667855ef0>"
            ]
          },
          "metadata": {
            "tags": []
          }
        },
        {
          "output_type": "stream",
          "text": [
            "[train] step: 72 loss: 0.042\n",
            "[train] step: 73 loss: 0.043\n",
            "[train] step: 74 loss: 0.045\n",
            "[train] step: 75 loss: 0.041\n",
            "[train] step: 76 loss: 0.037\n",
            "[train] step: 77 loss: 0.041\n",
            "[train] step: 78 loss: 0.042\n",
            "[train] step: 79 loss: 0.039\n",
            "[train] step: 80 loss: 0.036\n",
            "[test] acc: 86.719\n"
          ],
          "name": "stdout"
        },
        {
          "output_type": "display_data",
          "data": {
            "image/png": "[encoded data removed]",
            "text/plain": [
              "<matplotlib.figure.Figure at 0x7fc66836b208>"
            ]
          },
          "metadata": {
            "tags": []
          }
        },
        {
          "output_type": "stream",
          "text": [
            "[train] step: 82 loss: 0.038\n",
            "[train] step: 83 loss: 0.038\n",
            "[train] step: 84 loss: 0.035\n",
            "[train] step: 85 loss: 0.037\n",
            "[train] step: 86 loss: 0.039\n",
            "[train] step: 87 loss: 0.037\n",
            "[train] step: 88 loss: 0.033\n",
            "[train] step: 89 loss: 0.034\n",
            "[train] step: 90 loss: 0.034\n",
            "[test] acc: 90.625\n"
          ],
          "name": "stdout"
        },
        {
          "output_type": "display_data",
          "data": {
            "image/png": "[encoded data removed]",
            "text/plain": [
              "<matplotlib.figure.Figure at 0x7fc666a4f9e8>"
            ]
          },
          "metadata": {
            "tags": []
          }
        },
        {
          "output_type": "stream",
          "text": [
            "[train] step: 92 loss: 0.034\n",
            "[train] step: 93 loss: 0.035\n",
            "[train] step: 94 loss: 0.034\n",
            "[train] step: 95 loss: 0.033\n",
            "[train] step: 96 loss: 0.032\n",
            "[train] step: 97 loss: 0.031\n",
            "[train] step: 98 loss: 0.031\n",
            "[train] step: 99 loss: 0.030\n",
            "[train] step: 100 loss: 0.032\n",
            "[test] acc: 93.750\n"
          ],
          "name": "stdout"
        },
        {
          "output_type": "display_data",
          "data": {
            "image/png": "[encoded data removed]",
            "text/plain": [
              "<matplotlib.figure.Figure at 0x7fc6637eb8d0>"
            ]
          },
          "metadata": {
            "tags": []
          }
        },
        {
          "output_type": "stream",
          "text": [
            "[train] step: 102 loss: 0.032\n",
            "[train] step: 103 loss: 0.034\n",
            "[train] step: 104 loss: 0.032\n",
            "[train] step: 105 loss: 0.028\n",
            "[train] step: 106 loss: 0.029\n",
            "[train] step: 107 loss: 0.030\n",
            "[train] step: 108 loss: 0.030\n",
            "[train] step: 109 loss: 0.032\n",
            "[train] step: 110 loss: 0.030\n",
            "[test] acc: 94.531\n"
          ],
          "name": "stdout"
        },
        {
          "output_type": "display_data",
          "data": {
            "image/png": "[encoded data removed]",
            "text/plain": [
              "<matplotlib.figure.Figure at 0x7fc6678ac5c0>"
            ]
          },
          "metadata": {
            "tags": []
          }
        },
        {
          "output_type": "stream",
          "text": [
            "[train] step: 112 loss: 0.030\n",
            "[train] step: 113 loss: 0.029\n",
            "[train] step: 114 loss: 0.029\n",
            "[train] step: 115 loss: 0.030\n",
            "[train] step: 116 loss: 0.027\n",
            "[train] step: 117 loss: 0.027\n",
            "[train] step: 118 loss: 0.028\n",
            "[train] step: 119 loss: 0.028\n",
            "[train] step: 120 loss: 0.028\n",
            "[test] acc: 95.312\n"
          ],
          "name": "stdout"
        },
        {
          "output_type": "display_data",
          "data": {
            "image/png": "[encoded data removed]",
            "text/plain": [
              "<matplotlib.figure.Figure at 0x7fc663db8d68>"
            ]
          },
          "metadata": {
            "tags": []
          }
        },
        {
          "output_type": "stream",
          "text": [
            "[train] step: 122 loss: 0.027\n",
            "[train] step: 123 loss: 0.028\n",
            "[train] step: 124 loss: 0.030\n",
            "[train] step: 125 loss: 0.028\n",
            "[train] step: 126 loss: 0.027\n",
            "[train] step: 127 loss: 0.027\n",
            "[train] step: 128 loss: 0.026\n",
            "[train] step: 129 loss: 0.028\n",
            "[train] step: 130 loss: 0.027\n",
            "[test] acc: 93.750\n"
          ],
          "name": "stdout"
        },
        {
          "output_type": "display_data",
          "data": {
            "image/png": "[encoded data removed]",
            "text/plain": [
              "<matplotlib.figure.Figure at 0x7fc663d83358>"
            ]
          },
          "metadata": {
            "tags": []
          }
        },
        {
          "output_type": "stream",
          "text": [
            "[train] step: 132 loss: 0.027\n",
            "[train] step: 133 loss: 0.025\n",
            "[train] step: 134 loss: 0.025\n",
            "[train] step: 135 loss: 0.025\n",
            "[train] step: 136 loss: 0.026\n",
            "[train] step: 137 loss: 0.027\n",
            "[train] step: 138 loss: 0.026\n",
            "[train] step: 139 loss: 0.026\n",
            "[train] step: 140 loss: 0.028\n",
            "[test] acc: 95.312\n"
          ],
          "name": "stdout"
        },
        {
          "output_type": "display_data",
          "data": {
            "image/png": "[encoded data removed]",
            "text/plain": [
              "<matplotlib.figure.Figure at 0x7fc663b52470>"
            ]
          },
          "metadata": {
            "tags": []
          }
        },
        {
          "output_type": "stream",
          "text": [
            "[train] step: 142 loss: 0.024\n",
            "[train] step: 143 loss: 0.027\n",
            "[train] step: 144 loss: 0.023\n",
            "[train] step: 145 loss: 0.026\n",
            "[train] step: 146 loss: 0.024\n",
            "[train] step: 147 loss: 0.025\n",
            "[train] step: 148 loss: 0.025\n",
            "[train] step: 149 loss: 0.024\n",
            "[train] step: 150 loss: 0.026\n",
            "[test] acc: 97.656\n"
          ],
          "name": "stdout"
        },
        {
          "output_type": "display_data",
          "data": {
            "image/png": "[encoded data removed]",
            "text/plain": [
              "<matplotlib.figure.Figure at 0x7fc662242dd8>"
            ]
          },
          "metadata": {
            "tags": []
          }
        },
        {
          "output_type": "stream",
          "text": [
            "[train] step: 152 loss: 0.025\n",
            "[train] step: 153 loss: 0.026\n",
            "[train] step: 154 loss: 0.023\n",
            "[train] step: 155 loss: 0.025\n"
          ],
          "name": "stdout"
        }
      ]
    }
  ]
}